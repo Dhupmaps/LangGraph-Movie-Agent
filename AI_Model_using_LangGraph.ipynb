{
  "nbformat": 4,
  "nbformat_minor": 0,
  "metadata": {
    "colab": {
      "provenance": []
    },
    "kernelspec": {
      "name": "python3",
      "display_name": "Python 3"
    },
    "language_info": {
      "name": "python"
    }
  },
  "cells": [
    {
      "cell_type": "markdown",
      "source": [
        "# I025\n",
        "\n",
        "# Dhup Mehta\n",
        "\n",
        "# GenAI Lab 10\n",
        "\n",
        "# B. Tech AI | Sem- 7\n",
        "\n",
        "# Batch 1"
      ],
      "metadata": {
        "id": "-3hNP3EdTp7N"
      }
    },
    {
      "cell_type": "code",
      "source": [
        "!pip install langgraph==0.3.2 mistralai pandas langchain-mistralai langchain-core -q"
      ],
      "metadata": {
        "id": "b2RxnudaM3bi"
      },
      "execution_count": 43,
      "outputs": []
    },
    {
      "cell_type": "code",
      "execution_count": 44,
      "metadata": {
        "id": "xUby92MWL7OC"
      },
      "outputs": [],
      "source": [
        "import getpass\n",
        "import os\n",
        "\n",
        "if \"MISTRAL_API_KEY\" not in os.environ:\n",
        "    os.environ[\"MISTRAL_API_KEY\"] = getpass.getpass(\"Enter your Mistral API key: \")\n",
        "api_key = os.environ[\"MISTRAL_API_KEY\"]"
      ]
    },
    {
      "cell_type": "code",
      "source": [
        "import json\n",
        "import pandas as pd\n",
        "from langgraph.graph import StateGraph, END\n",
        "from langchain_mistralai.chat_models import ChatMistralAI\n",
        "from langchain_core.messages import ToolMessage"
      ],
      "metadata": {
        "id": "h3mlVc9wOi5O"
      },
      "execution_count": 45,
      "outputs": []
    },
    {
      "cell_type": "code",
      "source": [
        "movie_data = {\n",
        "    'movie_id': ['M01', 'M02', 'M03', 'M04', 'M05', 'M06', 'M07', 'M08', 'M09', 'M10', 'M11', 'M12', 'M13', 'M14', 'M15', 'M16', 'M17', 'M18', 'M19', 'M20'],\n",
        "    'title': [\n",
        "        'Inception', 'The Dark Knight', 'Pulp Fiction', 'Forrest Gump', 'The Matrix',\n",
        "        'Avatar', 'Titanic', 'Jurassic Park', 'The Avengers', 'Interstellar',\n",
        "        'Parasite', 'The Lion King', 'The Shawshank Redemption', 'The Godfather',\n",
        "        'Fight Club', 'Gladiator', 'Saving Private Ryan', 'Spirited Away',\n",
        "        'The Silence of the Lambs', 'Whiplash'\n",
        "    ],\n",
        "    'genre': [\n",
        "        'Sci-Fi', 'Action', 'Crime', 'Drama', 'Sci-Fi', 'Sci-Fi', 'Romance',\n",
        "        'Sci-Fi', 'Action', 'Sci-Fi', 'Thriller', 'Animation', 'Drama', 'Crime',\n",
        "        'Drama', 'Action', 'War', 'Animation', 'Thriller', 'Drama'\n",
        "    ],\n",
        "    'release_year': [\n",
        "        2010, 2008, 1994, 1994, 1999, 2009, 1997, 1993, 2012, 2014, 2019,\n",
        "        1994, 1994, 1972, 1999, 2000, 1998, 2001, 1991, 2014\n",
        "    ],\n",
        "    'director': [\n",
        "        'Christopher Nolan', 'Christopher Nolan', 'Quentin Tarantino',\n",
        "        'Robert Zemeckis', 'Wachowskis', 'James Cameron', 'James Cameron',\n",
        "        'Steven Spielberg', 'Joss Whedon', 'Christopher Nolan', 'Bong Joon Ho',\n",
        "        'Roger Allers', 'Frank Darabont', 'Francis Ford Coppola', 'David Fincher',\n",
        "        'Ridley Scott', 'Steven Spielberg', 'Hayao Miyazaki', 'Jonathan Demme', 'Damien Chazelle'\n",
        "    ],\n",
        "    'imdb_rating': [\n",
        "        8.8, 9.0, 8.9, 8.8, 8.7, 7.8, 7.8, 8.1, 8.0, 8.6, 8.6, 8.5, 9.3,\n",
        "        9.2, 8.8, 8.5, 8.6, 8.6, 8.6, 8.5\n",
        "    ],\n",
        "    'box_office_revenue_usd': [\n",
        "        829900000, 1004900000, 213900000, 678200000, 465300000, 2923700000,\n",
        "        2257900000, 1109800000, 1518800000, 701800000, 258700000, 968500000,\n",
        "        58500000, 291000000, 101200000, 465400000, 482300000, 395800000,\n",
        "        272700000, 49000000\n",
        "    ]\n",
        "}\n",
        "\n",
        "df_movies = pd.DataFrame(movie_data)\n",
        "print(df_movies)"
      ],
      "metadata": {
        "colab": {
          "base_uri": "https://localhost:8080/"
        },
        "id": "SQI6OTiJOix8",
        "outputId": "c645ca6e-5b76-4e3c-b7d0-42010ab0d328"
      },
      "execution_count": 55,
      "outputs": [
        {
          "output_type": "stream",
          "name": "stdout",
          "text": [
            "   movie_id                     title      genre  release_year  \\\n",
            "0       M01                 Inception     Sci-Fi          2010   \n",
            "1       M02           The Dark Knight     Action          2008   \n",
            "2       M03              Pulp Fiction      Crime          1994   \n",
            "3       M04              Forrest Gump      Drama          1994   \n",
            "4       M05                The Matrix     Sci-Fi          1999   \n",
            "5       M06                    Avatar     Sci-Fi          2009   \n",
            "6       M07                   Titanic    Romance          1997   \n",
            "7       M08             Jurassic Park     Sci-Fi          1993   \n",
            "8       M09              The Avengers     Action          2012   \n",
            "9       M10              Interstellar     Sci-Fi          2014   \n",
            "10      M11                  Parasite   Thriller          2019   \n",
            "11      M12             The Lion King  Animation          1994   \n",
            "12      M13  The Shawshank Redemption      Drama          1994   \n",
            "13      M14             The Godfather      Crime          1972   \n",
            "14      M15                Fight Club      Drama          1999   \n",
            "15      M16                 Gladiator     Action          2000   \n",
            "16      M17       Saving Private Ryan        War          1998   \n",
            "17      M18             Spirited Away  Animation          2001   \n",
            "18      M19  The Silence of the Lambs   Thriller          1991   \n",
            "19      M20                  Whiplash      Drama          2014   \n",
            "\n",
            "                director  imdb_rating  box_office_revenue_usd  \n",
            "0      Christopher Nolan          8.8               829900000  \n",
            "1      Christopher Nolan          9.0              1004900000  \n",
            "2      Quentin Tarantino          8.9               213900000  \n",
            "3        Robert Zemeckis          8.8               678200000  \n",
            "4             Wachowskis          8.7               465300000  \n",
            "5          James Cameron          7.8              2923700000  \n",
            "6          James Cameron          7.8              2257900000  \n",
            "7       Steven Spielberg          8.1              1109800000  \n",
            "8            Joss Whedon          8.0              1518800000  \n",
            "9      Christopher Nolan          8.6               701800000  \n",
            "10          Bong Joon Ho          8.6               258700000  \n",
            "11          Roger Allers          8.5               968500000  \n",
            "12        Frank Darabont          9.3                58500000  \n",
            "13  Francis Ford Coppola          9.2               291000000  \n",
            "14         David Fincher          8.8               101200000  \n",
            "15          Ridley Scott          8.5               465400000  \n",
            "16      Steven Spielberg          8.6               482300000  \n",
            "17        Hayao Miyazaki          8.6               395800000  \n",
            "18        Jonathan Demme          8.6               272700000  \n",
            "19       Damien Chazelle          8.5                49000000  \n"
          ]
        }
      ]
    },
    {
      "cell_type": "code",
      "source": [
        "def get_movie_details(df: pd.DataFrame, title: str) -> str:\n",
        "    movie_info = df[df['title'].str.lower() == title.lower()]\n",
        "    if not movie_info.empty: return json.dumps(movie_info.to_dict(orient='records')[0])\n",
        "    return json.dumps({'error': f'Movie with title \"{title}\" not found.'})\n",
        "\n",
        "def find_movies_by_director(df: pd.DataFrame, director: str) -> str:\n",
        "    movies = df[df['director'].str.lower() == director.lower()]['title'].tolist()\n",
        "    if movies: return json.dumps({'movies': movies})\n",
        "    return json.dumps({'error': f'No movies found for director \"{director}\".'})\n",
        "\n",
        "def get_highest_rated_movie_by_genre(df: pd.DataFrame, genre: str) -> str:\n",
        "    genre_movies = df[df['genre'].str.lower() == genre.lower()]\n",
        "    if not genre_movies.empty:\n",
        "        highest_rated = genre_movies.loc[genre_movies['imdb_rating'].idxmax()]\n",
        "        return json.dumps({'title': highest_rated['title'], 'imdb_rating': highest_rated['imdb_rating']})\n",
        "    return json.dumps({'error': f'No movies found for genre \"{genre}\".'})\n",
        "\n",
        "def compare_box_office(df: pd.DataFrame, movie_title_1: str, movie_title_2: str) -> str:\n",
        "    movie1 = df[df['title'].str.lower() == movie_title_1.lower()]\n",
        "    movie2 = df[df['title'].str.lower() == movie_title_2.lower()]\n",
        "    if movie1.empty: return json.dumps({'error': f'Movie \"{movie_title_1}\" not found.'})\n",
        "    if movie2.empty: return json.dumps({'error': f'Movie \"{movie_title_2}\" not found.'})\n",
        "    revenue1 = movie1['box_office_revenue_usd'].iloc[0]\n",
        "    revenue2 = movie2['box_office_revenue_usd'].iloc[0]\n",
        "    if revenue1 > revenue2:\n",
        "        return json.dumps({'higher_grossing_movie': movie_title_1, 'revenue_difference_usd': int(revenue1 - revenue2)})\n",
        "    return json.dumps({'higher_grossing_movie': movie_title_2, 'revenue_difference_usd': int(revenue2 - revenue1)})\n"
      ],
      "metadata": {
        "id": "LPP3geniM-w5"
      },
      "execution_count": 51,
      "outputs": []
    },
    {
      "cell_type": "code",
      "source": [
        "tools = [\n",
        "    {\"type\": \"function\", \"function\": {\"name\": \"get_movie_details\", \"description\": \"Get all available details for a specific movie by its title.\", \"parameters\": {\"type\": \"object\", \"properties\": {\"title\": {\"type\": \"string\", \"description\": \"The title of the movie.\"}}, \"required\": [\"title\"]}}},\n",
        "    {\"type\": \"function\", \"function\": {\"name\": \"find_movies_by_director\", \"description\": \"List all movies in the dataset directed by a specific director.\", \"parameters\": {\"type\": \"object\", \"properties\": {\"director\": {\"type\": \"string\", \"description\": \"The name of the director.\"}}, \"required\": [\"director\"]}}},\n",
        "    {\"type\": \"function\", \"function\": {\"name\": \"get_highest_rated_movie_by_genre\", \"description\": \"Find the movie with the highest IMDb rating within a specific genre.\", \"parameters\": {\"type\": \"object\", \"properties\": {\"genre\": {\"type\": \"string\", \"description\": \"The genre to search within (e.g., Sci-Fi, Action).\"}}, \"required\": [\"genre\"]}}},\n",
        "    {\"type\": \"function\", \"function\": {\"name\": \"compare_box_office\", \"description\": \"Compare the box office revenue of two movies.\", \"parameters\": {\"type\": \"object\", \"properties\": {\"movie_title_1\": {\"type\": \"string\", \"description\": \"The title of the first movie.\"}, \"movie_title_2\": {\"type\": \"string\", \"description\": \"The title of the second movie.\"}}, \"required\": [\"movie_title_1\", \"movie_title_2\"]}}}\n",
        "]\n",
        "model = ChatMistralAI(model=\"mistral-large-latest\", api_key=api_key)\n",
        "State = dict\n",
        "\n",
        "def planner(state: State) -> State:\n",
        "    messages = state.get(\"messages\", [])\n",
        "    response = model.invoke(messages, tool_choice=\"auto\", tools=tools)\n",
        "    state[\"messages\"].append(response)\n",
        "\n",
        "    state[\"tool_calls\"] = response.tool_calls\n",
        "    return state\n",
        "\n",
        "names_to_functions = {\n",
        "    \"get_movie_details\": get_movie_details,\n",
        "    \"find_movies_by_director\": find_movies_by_director,\n",
        "    \"get_highest_rated_movie_by_genre\": get_highest_rated_movie_by_genre,\n",
        "    \"compare_box_office\": compare_box_office,\n",
        "}\n",
        "\n",
        "def execute_tools(state: State) -> State:\n",
        "    tool_calls = state.get(\"tool_calls\", [])\n",
        "    messages = state.get(\"messages\", [])\n",
        "    tool_results = []\n",
        "    for tool_call in tool_calls:\n",
        "        function_name = tool_call['name']\n",
        "        function_params = tool_call['args']\n",
        "        if function_name in names_to_functions:\n",
        "            function_result = names_to_functions[function_name](df_movies, **function_params)\n",
        "            tool_results.append(ToolMessage(content=function_result, tool_call_id=tool_call['id']))\n",
        "    messages.extend(tool_results)\n",
        "    state[\"messages\"] = messages\n",
        "    state[\"tool_calls\"] = None\n",
        "    return state\n",
        "\n",
        "\n",
        "def check_tool_needed(state: State) -> str:\n",
        "\n",
        "    if state[\"messages\"][-1].tool_calls:\n",
        "        return \"call_tool\"\n",
        "    else:\n",
        "        return \"__end__\"\n",
        "\n",
        "graph_builder = StateGraph(State)\n",
        "graph_builder.set_entry_point(\"planner\")\n",
        "\n",
        "graph_builder.add_node(\"planner\", planner)\n",
        "graph_builder.add_node(\"call_tool\", execute_tools)\n",
        "\n",
        "graph_builder.add_conditional_edges(\n",
        "    \"planner\",\n",
        "    check_tool_needed,\n",
        "    {\n",
        "        \"call_tool\": \"call_tool\",\n",
        "        \"__end__\": END,\n",
        "    },\n",
        ")\n",
        "\n",
        "graph_builder.add_edge(\"call_tool\", \"planner\")\n",
        "\n",
        "graph = graph_builder.compile()\n",
        "print(\"\\nLangGraph agent for movies compiled successfully!\")\n"
      ],
      "metadata": {
        "colab": {
          "base_uri": "https://localhost:8080/"
        },
        "id": "V6X9EhKAPhIs",
        "outputId": "674e8999-d764-4686-db5e-19b92a04bde9"
      },
      "execution_count": 53,
      "outputs": [
        {
          "output_type": "stream",
          "name": "stdout",
          "text": [
            "\n",
            "LangGraph agent for movies compiled successfully!\n"
          ]
        }
      ]
    },
    {
      "cell_type": "code",
      "source": [
        "def run_query(user_query: str):\n",
        "    messages = [\n",
        "        {\"role\": \"system\", \"content\": \"You are a movie information assistant. Answer the user's questions concisely based on the provided data.\"},\n",
        "        {\"role\": \"user\", \"content\": user_query}\n",
        "    ]\n",
        "    state = {\"messages\": messages}\n",
        "    result = graph.invoke(state)\n",
        "    return result[\"messages\"][-1].content\n",
        "\n",
        "print(\"\\nRunning Queries\")\n",
        "#query1 = \"What movies did Christopher Nolan direct?\"\n",
        "\n",
        "#query2 = \"What is the highest-rated Sci-Fi movie in your data?\"\n",
        "\n",
        "query3 = \"Which movie made more money, Avatar or Titanic?\"\n",
        "\n",
        "#query4 = \"Tell me the genre and IMDB rating for The Dark Knight.\"\n",
        "\n",
        "print(f\"User: {query3}\")\n",
        "print(f\"Agent: {run_query(query3)}\\n\")"
      ],
      "metadata": {
        "colab": {
          "base_uri": "https://localhost:8080/"
        },
        "id": "KS56cpPQNqXc",
        "outputId": "fc7127a5-feca-4aee-8774-26612b51cef8"
      },
      "execution_count": 49,
      "outputs": [
        {
          "output_type": "stream",
          "name": "stdout",
          "text": [
            "\n",
            "Running Queries\n",
            "User: Which movie made more money, Avatar or Titanic?\n",
            "Agent: **Avatar** made more money than *Titanic* by **$665.8 million USD**.\n",
            "\n"
          ]
        }
      ]
    }
  ]
}